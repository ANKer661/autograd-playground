{
 "cells": [
  {
   "cell_type": "code",
   "execution_count": null,
   "metadata": {},
   "outputs": [],
   "source": [
    "import numpy as np\n",
    "import matplotlib.pyplot as plt\n",
    "from src.tensor import Tensor\n",
    "from src.visualization import visualize"
   ]
  },
  {
   "cell_type": "code",
   "execution_count": null,
   "metadata": {},
   "outputs": [],
   "source": [
    "a_data = np.array([[1, 2, 3], [3, 1, 4]])\n",
    "b_data = np.array([[2, 3, 4], [1, 7, 5]])\n",
    "a = Tensor(a_data, require_grad=True)\n",
    "b = Tensor(b_data, require_grad=True)\n",
    "c = 3 * a + b\n",
    "\n",
    "constant1_data = np.array([2, 3, 4])  # broadcast: (3,) -> (2, 3)\n",
    "constant1 = Tensor(constant1_data, require_grad=False)\n",
    "d = c * constant1\n",
    "\n",
    "constant2_data = np.array([[2, 2], [3, 9], [4, 7]])\n",
    "constant2 = Tensor(constant2_data, require_grad=False)\n",
    "e = d @ constant2\n",
    "\n",
    "f = Tensor(np.array([[2, 3], [1, 7]]), require_grad=True)\n",
    "g = Tensor(np.array([[22, 1], [6, 3]]), require_grad=True)\n",
    "h = f * g + f\n",
    "j = e @ h\n",
    "\n",
    "fig, ax = visualize(j)\n",
    "plt.show()"
   ]
  },
  {
   "cell_type": "code",
   "execution_count": null,
   "metadata": {},
   "outputs": [],
   "source": [
    "j.backward()\n",
    "fig, ax = visualize(j)\n",
    "plt.show()"
   ]
  }
 ],
 "metadata": {
  "language_info": {
   "name": "python"
  }
 },
 "nbformat": 4,
 "nbformat_minor": 2
}
