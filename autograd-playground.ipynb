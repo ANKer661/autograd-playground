{
 "cells": [
  {
   "cell_type": "markdown",
   "metadata": {},
   "source": [
    "# Autograd Playground\n",
    "\n",
    "Welcome to the Autograd Playground! This notebook will guide you through a simple implementation of automatic differentiation using custom Tensor and Operation classes. You'll be able to create computation graphs, visualize them, perform back propagation and check how gradients flow between tensors.\n",
    "\n",
    "Let's start by importing the necessary modules:"
   ]
  },
  {
   "cell_type": "code",
   "execution_count": null,
   "metadata": {},
   "outputs": [],
   "source": [
    "import numpy as np\n",
    "import matplotlib.pyplot as plt\n",
    "from src.tensor import Tensor\n",
    "from src.visualization import visualize"
   ]
  },
  {
   "cell_type": "markdown",
   "metadata": {},
   "source": [
    "### Creating and Manipulating Tensors\n",
    "\n",
    "Now, let's create some tensors and perform operations on them."
   ]
  },
  {
   "cell_type": "code",
   "execution_count": null,
   "metadata": {},
   "outputs": [],
   "source": [
    "a_data = np.array([[1, 2, 3], [3, 1, 4]])\n",
    "b_data = np.array([[2, 3, 4], [1, 7, 5]])\n",
    "a = Tensor(a_data, require_grad=True)\n",
    "b = Tensor(b_data, require_grad=True)\n",
    "c = 3 * a + b\n",
    "print(\"c:\", c)\n",
    "\n",
    "constant1_data = np.array([2, 3, 4])\n",
    "constant1 = Tensor(constant1_data, require_grad=False)\n",
    "d = c * constant1  # c.shape: (2, 3); constant1 will be broadcast: (3,) -> (2, 3)\n",
    "print(\"\\nd:\", d)\n",
    "\n",
    "constant2_data = np.array([[2, 2], [3, 9], [4, 7]])\n",
    "constant2 = Tensor(constant2_data, require_grad=False)\n",
    "e = d @ constant2\n",
    "print(\"\\ne:\", e)\n",
    "\n",
    "f = Tensor(np.array([[2, 3], [1, 7]]), require_grad=True)\n",
    "g = Tensor(np.array([[22, 1], [6, 3]]), require_grad=True)\n",
    "h = f * g + f\n",
    "print(\"\\nh:\", h)\n",
    "\n",
    "j = e @ h\n",
    "print(\"\\nj:\", j)"
   ]
  },
  {
   "cell_type": "markdown",
   "metadata": {},
   "source": [
    "### Visualizing the Computation Graph\n",
    "\n",
    "Now that we've created our computation graph, let's visualize it before performing backpropagation:"
   ]
  },
  {
   "cell_type": "code",
   "execution_count": null,
   "metadata": {},
   "outputs": [],
   "source": [
    "fig, ax = visualize(j)\n",
    "plt.show()"
   ]
  },
  {
   "cell_type": "markdown",
   "metadata": {},
   "source": [
    "In this visualization:\n",
    "- Each blue square represents a tensor or an operation.\n",
    "- Tensor nodes show their current values.\n",
    "- Operation nodes show the type of operation performed.\n",
    "- Arrows indicate the flow of data in the forward pass.\n",
    "\n",
    "### Performing Backpropagation\n",
    "\n",
    "Now, let's perform backpropagation and visualize the graph again to see how gradients flow:"
   ]
  },
  {
   "cell_type": "code",
   "execution_count": null,
   "metadata": {},
   "outputs": [],
   "source": [
    "j.backward()\n",
    "fig, ax = visualize(j)\n",
    "plt.show()"
   ]
  },
  {
   "cell_type": "markdown",
   "metadata": {},
   "source": [
    "After backpropagation:\n",
    "- The graph now shows gradients flowing backward (indicated by dashed lines).\n",
    "- Each edge is labeled with the gradient that flows through it.\n",
    "- Tensor nodes now include both their value and their gradient.\n",
    "\n",
    "### Exploring Further\n",
    "\n",
    "Feel free to experiment with different tensor values, operations, and graph structures. You can create new tensors, perform various operations, and visualize the results to better understand how automatic differentiation works in this implementation.\n",
    "\n",
    "Here's an example of creating a new computation graph using operations that are supported:"
   ]
  },
  {
   "cell_type": "code",
   "execution_count": null,
   "metadata": {},
   "outputs": [],
   "source": [
    "# Create some new tensors\n",
    "# x = Tensor(np.array([1, 2, 3]), require_grad=True)\n",
    "# y = Tensor(np.array([4, 5, 6]), require_grad=True)\n",
    "\n",
    "# Perform operations\n",
    "# z = 2 * x + y\n",
    "\n",
    "# Visualize computation graph\n",
    "# fig, ax = visualize(y)\n",
    "# plt.show()\n",
    "\n",
    "# Perform back propagation\n",
    "# y.backward()\n",
    "# fig, ax = visualize(y)\n",
    "# plt.show()"
   ]
  }
 ],
 "metadata": {
  "language_info": {
   "name": "python"
  }
 },
 "nbformat": 4,
 "nbformat_minor": 2
}
